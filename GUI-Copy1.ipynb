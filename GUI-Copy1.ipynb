{
 "cells": [
  {
   "cell_type": "markdown",
   "metadata": {},
   "source": [
    "# GUI of detection of True or Fake"
   ]
  },
  {
   "cell_type": "code",
   "execution_count": null,
   "metadata": {},
   "outputs": [],
   "source": [
    "from tkinter import *\n",
    "import tkinter.messagebox as m\n",
    "import pickle\n",
    "\n",
    "window=Tk()\n",
    "\n",
    "v1=StringVar()\n",
    "load_model = pickle.load(open('final_model.sav', 'rb'))\n",
    "\n",
    "def predict(msg):    \n",
    "    prediction = load_model.predict([msg])\n",
    "    prob = load_model.predict_proba([msg])\n",
    "    pr1=prediction[0]\n",
    "    pr=float(round(prob[0][1]*100,3))\n",
    "    #pr1=prediction[0]\n",
    "    #if(pr<0.62):\n",
    "     #   pr1=\"FALSE\"\n",
    "    #else:\n",
    "     #   pr1=\"TRUE\"\n",
    "    #lbl=Label(window, text=prediction[0], fg='red', font=(\"Helvetica\", 16))\n",
    "    #lbl.place(x=260, y=270)\n",
    "    m.showinfo(title=\"Send\", message=pr1)\n",
    "    return(prob[0][1])\n",
    "\n",
    "def submit():\n",
    "    msg=v1.get()  \n",
    "    pr=predict(msg)\n",
    "    \n",
    "def close_window ():\n",
    "    window.destroy()\n",
    "    \n",
    "\n",
    "lbl=Label(window, text=\"Enter Text\", fg='red', font=(\"Helvetica\", 16))\n",
    "lbl.place(x=160, y=170)\n",
    "txtfld=Entry(window, text=\"\\n\\n\",  bd=5)\n",
    "txtfld.place(x=155, y=220)\n",
    "btn=Button(window,command=submit ,text=\"Send\", fg='blue')\n",
    "btn.place(x=213, y=260)\n",
    "btnex=Button(command=close_window ,text=\"Exit\", fg='red')\n",
    "btnex.place(x=217, y=310)\n",
    "#button.pack()\n",
    "window.title('Fake News Predictor1')\n",
    "window.geometry(\"500x500+10+10\")\n",
    "window.mainloop()\n"
   ]
  },
  {
   "cell_type": "code",
   "execution_count": 33,
   "metadata": {},
   "outputs": [
    {
     "ename": "NameError",
     "evalue": "name 'prediction' is not defined",
     "output_type": "error",
     "traceback": [
      "\u001b[0;31m---------------------------------------------------------------------------\u001b[0m",
      "\u001b[0;31mNameError\u001b[0m                                 Traceback (most recent call last)",
      "\u001b[0;32m<ipython-input-33-69375d689d32>\u001b[0m in \u001b[0;36m<module>\u001b[0;34m\u001b[0m\n\u001b[0;32m----> 1\u001b[0;31m \u001b[0mprediction\u001b[0m\u001b[0;34m[\u001b[0m\u001b[0;36m0\u001b[0m\u001b[0;34m]\u001b[0m\u001b[0;34m\u001b[0m\u001b[0;34m\u001b[0m\u001b[0m\n\u001b[0m",
      "\u001b[0;31mNameError\u001b[0m: name 'prediction' is not defined"
     ]
    }
   ],
   "source": [
    "prediction[0]"
   ]
  },
  {
   "cell_type": "code",
   "execution_count": null,
   "metadata": {},
   "outputs": [],
   "source": []
  }
 ],
 "metadata": {
  "kernelspec": {
   "display_name": "Python 3",
   "language": "python",
   "name": "python3"
  },
  "language_info": {
   "codemirror_mode": {
    "name": "ipython",
    "version": 3
   },
   "file_extension": ".py",
   "mimetype": "text/x-python",
   "name": "python",
   "nbconvert_exporter": "python",
   "pygments_lexer": "ipython3",
   "version": "3.7.5"
  }
 },
 "nbformat": 4,
 "nbformat_minor": 4
}
