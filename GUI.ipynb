{
 "cells": [
  {
   "cell_type": "code",
   "execution_count": null,
   "metadata": {},
   "outputs": [],
   "source": [
    "from tkinter import *\n",
    "import tkinter.messagebox as m\n",
    "import pickle\n",
    "\n",
    "window=Tk()\n",
    "\n",
    "\n",
    "v1=StringVar()\n",
    "\n",
    "def submit():\n",
    "    msg=v1.get()  \n",
    "    load_model = pickle.load(open('final_model.sav', 'rb'))\n",
    "    prediction = load_model.predict([msg])\n",
    "    prob = load_model.predict_proba([msg])\n",
    "    pr=prediction[0]\n",
    "    #if(pr<0.62):\n",
    "    pr1=\"FALSE\"\n",
    "    m.showinfo(title=\"Send\", message=pr1)\n",
    "\n",
    "def close_window ():\n",
    "    window.destroy()\n",
    "    \n",
    "\n",
    "lbl=Label(window, text=\"Enter Text\", fg='red', font=(\"Helvetica\", 16))\n",
    "lbl.place(x=160, y=170)\n",
    "txtfld=Entry(window, text=\"\",  bd=5)\n",
    "txtfld.place(x=155, y=220)\n",
    "btn=Button(window,command=submit ,text=\"Send\", fg='blue')\n",
    "btn.place(x=213, y=260)\n",
    "btnex=Button(command=close_window ,text=\"Exit\", fg='red')\n",
    "btnex.place(x=217, y=310)\n",
    "#button.pack()\n",
    "window.title('Fake News Predictor')\n",
    "window.geometry(\"500x500+10+10\")\n",
    "window.mainloop()\n"
   ]
  },
  {
   "cell_type": "code",
   "execution_count": null,
   "metadata": {},
   "outputs": [],
   "source": []
  },
  {
   "cell_type": "code",
   "execution_count": null,
   "metadata": {},
   "outputs": [],
   "source": []
  }
 ],
 "metadata": {
  "kernelspec": {
   "display_name": "Python 3",
   "language": "python",
   "name": "python3"
  },
  "language_info": {
   "codemirror_mode": {
    "name": "ipython",
    "version": 3
   },
   "file_extension": ".py",
   "mimetype": "text/x-python",
   "name": "python",
   "nbconvert_exporter": "python",
   "pygments_lexer": "ipython3",
   "version": "3.7.5"
  }
 },
 "nbformat": 4,
 "nbformat_minor": 4
}
